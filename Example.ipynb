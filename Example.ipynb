{
 "cells": [
  {
   "cell_type": "code",
   "execution_count": 1,
   "id": "86dbab2a",
   "metadata": {},
   "outputs": [],
   "source": [
    "import gdual as gd"
   ]
  },
  {
   "cell_type": "code",
   "execution_count": 2,
   "id": "bac32078",
   "metadata": {},
   "outputs": [],
   "source": [
    "import warnings\n",
    "warnings.filterwarnings('always')"
   ]
  },
  {
   "cell_type": "code",
   "execution_count": 3,
   "id": "27829091",
   "metadata": {},
   "outputs": [
    {
     "name": "stderr",
     "output_type": "stream",
     "text": [
      "c:\\Users\\lavse\\Desktop\\gdual\\gdual\\gdual.py:428: UserWarning: Atanh: out of domain at point X = 5.133333333333334, returning NaN\n",
      "  warnings.warn(f\"Atanh: out of domain at point X = {f0}, returning NaN\", UserWarning)\n",
      "c:\\Users\\lavse\\Desktop\\gdual\\gdual\\gdual.py:276: UserWarning: Log: out of domain at point X = -1.4838709677419355, returning NaN\n",
      "  warnings.warn(f\"Log: out of domain at point X = {f0}, returning NaN\", UserWarning)\n"
     ]
    }
   ],
   "source": [
    "def f(x, y, z):\n",
    "    return (\n",
    "        gd.sin(x*y*z) + gd.cos(y) + gd.exp(z) +\n",
    "        gd.log(x + y**2) +\n",
    "        gd.sqrt(z + 1) + \n",
    "        gd.tan(x) + gd.cot(y) +\n",
    "        gd.asin(gd.gpow(x, -2)) + gd.acos(gd.gpow(y, -0.5)) + gd.atan(z) + gd.acot(z + 1) +\n",
    "        gd.sinh(x) + gd.cosh(y) + gd.tanh(z) + gd.coth(x + 1) + gd.sech(y + 1) + gd.csch(z + 1) +\n",
    "        gd.asinh(x) + gd.acosh(y + 2) + gd.atanh(x*y*z / 3) + gd.acoth(z + 2) + gd.asech(1 / (x + 2)) + gd.acsch(1 / (y + 2))\n",
    "    )\n",
    "    \n",
    "max_order = 8 # for partial deriviates up to order 8\n",
    "x, y, z = gd.GDual.initialize({'x': 2, 'y': 7, 'z': 1.1}, order=max_order)    \n",
    "\n",
    "# f(x, y, z) is a complex number, thus warnings will show; here deriviates are real and still calculated\n",
    "result = f(x, y, z)"
   ]
  },
  {
   "cell_type": "code",
   "execution_count": 4,
   "id": "58e82b1f",
   "metadata": {},
   "outputs": [
    {
     "name": "stdout",
     "output_type": "stream",
     "text": [
      "Hessian matrix = \n",
      " -39.29795703261095 -6.172851125427133 -39.24752732887763\n",
      "-6.172851125427133 551.3549759472866 -11.213579236822182\n",
      "-39.24752732887763 -11.213579236822182 -56.660288632551755\n"
     ]
    }
   ],
   "source": [
    "H = result.hessian()\n",
    "\n",
    "print('Hessian matrix = \\n', '\\n'.join([' '.join(map(str, row)) for row in H]))"
   ]
  },
  {
   "cell_type": "code",
   "execution_count": 5,
   "id": "1b9ab587",
   "metadata": {},
   "outputs": [
    {
     "name": "stdout",
     "output_type": "stream",
     "text": [
      "Gradient = \n",
      " [2.554469787427363, 543.7421559400127, -9.921732221562715]\n"
     ]
    }
   ],
   "source": [
    "print(\"Gradient = \\n\", result.gradient())"
   ]
  },
  {
   "cell_type": "code",
   "execution_count": 6,
   "id": "bb4c7163",
   "metadata": {},
   "outputs": [
    {
     "name": "stdout",
     "output_type": "stream",
     "text": [
      "Taylor expansion coefficients of order 2:\n",
      " {(0, 0, 0): nan, (0, 0, 1): -9.921732221562715, (0, 0, 2): -56.660288632551755, (0, 1, 0): 543.7421559400127, (0, 1, 1): -11.213579236822182, (0, 2, 0): 551.3549759472866, (1, 0, 0): 2.554469787427363, (1, 0, 1): -39.24752732887763, (1, 1, 0): -6.172851125427133, (2, 0, 0): -39.29795703261095}\n"
     ]
    }
   ],
   "source": [
    "coeffs =  result.taylor_coeffs(order=2)\n",
    "\n",
    "print(\"Taylor expansion coefficients of order 2:\\n\", coeffs)"
   ]
  },
  {
   "cell_type": "code",
   "execution_count": null,
   "id": "be4382fc",
   "metadata": {},
   "outputs": [
    {
     "data": {
      "text/plain": [
       "nan"
      ]
     },
     "execution_count": 7,
     "metadata": {},
     "output_type": "execute_result"
    }
   ],
   "source": [
    "# We get nan, as the taylor evaluated to complex number. \n",
    "# Othervise we get an Taylor aproximation for (x, y, z) = (2.3, 6.7, 0.9).\n",
    "gd.taylor_eval(coeffs=coeffs, vars=(2.3, 6.7, 0.9))"
   ]
  }
 ],
 "metadata": {
  "kernelspec": {
   "display_name": "Python 3",
   "language": "python",
   "name": "python3"
  },
  "language_info": {
   "codemirror_mode": {
    "name": "ipython",
    "version": 3
   },
   "file_extension": ".py",
   "mimetype": "text/x-python",
   "name": "python",
   "nbconvert_exporter": "python",
   "pygments_lexer": "ipython3",
   "version": "3.12.4"
  }
 },
 "nbformat": 4,
 "nbformat_minor": 5
}
